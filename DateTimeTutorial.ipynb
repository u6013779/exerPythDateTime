{
 "cells": [
  {
   "cell_type": "code",
   "execution_count": 72,
   "id": "fad66dc1",
   "metadata": {},
   "outputs": [],
   "source": [
    "import datetime"
   ]
  },
  {
   "cell_type": "code",
   "execution_count": 73,
   "id": "2b185d2d",
   "metadata": {},
   "outputs": [
    {
     "name": "stdout",
     "output_type": "stream",
     "text": [
      "2016-07-24\n"
     ]
    }
   ],
   "source": [
    "d = datetime.date(2016, 7, 24)\n",
    "print(d)"
   ]
  },
  {
   "cell_type": "code",
   "execution_count": 74,
   "id": "44d0385e",
   "metadata": {},
   "outputs": [
    {
     "name": "stdout",
     "output_type": "stream",
     "text": [
      "2021-09-21\n"
     ]
    }
   ],
   "source": [
    "tday = datetime.date.today()\n",
    "print(tday)"
   ]
  },
  {
   "cell_type": "code",
   "execution_count": 75,
   "id": "c542a376",
   "metadata": {},
   "outputs": [
    {
     "name": "stdout",
     "output_type": "stream",
     "text": [
      "2021\n"
     ]
    }
   ],
   "source": [
    "tday = datetime.date.today()\n",
    "print(tday.year)"
   ]
  },
  {
   "cell_type": "code",
   "execution_count": 76,
   "id": "2218ee44",
   "metadata": {},
   "outputs": [
    {
     "name": "stdout",
     "output_type": "stream",
     "text": [
      "21\n"
     ]
    }
   ],
   "source": [
    "tday = datetime.date.today()\n",
    "print(tday.day)"
   ]
  },
  {
   "cell_type": "code",
   "execution_count": 77,
   "id": "1303f11a",
   "metadata": {},
   "outputs": [
    {
     "name": "stdout",
     "output_type": "stream",
     "text": [
      "1\n",
      "2\n"
     ]
    }
   ],
   "source": [
    "tday = datetime.date.today()\n",
    "print(tday.weekday())\n",
    "print(tday.isoweekday())"
   ]
  },
  {
   "cell_type": "code",
   "execution_count": 78,
   "id": "2d8edc99",
   "metadata": {},
   "outputs": [],
   "source": [
    "tdelta = datetime.timedelta(days=7)"
   ]
  },
  {
   "cell_type": "code",
   "execution_count": 79,
   "id": "203c8427",
   "metadata": {},
   "outputs": [
    {
     "name": "stdout",
     "output_type": "stream",
     "text": [
      "2021-09-28\n"
     ]
    }
   ],
   "source": [
    "print(tday + tdelta)"
   ]
  },
  {
   "cell_type": "code",
   "execution_count": 80,
   "id": "cd4451f0",
   "metadata": {},
   "outputs": [
    {
     "name": "stdout",
     "output_type": "stream",
     "text": [
      "2021-09-14\n"
     ]
    }
   ],
   "source": [
    "print(tday - tdelta)"
   ]
  },
  {
   "cell_type": "code",
   "execution_count": 81,
   "id": "f0f0f8ae",
   "metadata": {},
   "outputs": [],
   "source": [
    "# date2 = date1 + timedelta\n",
    "# timedelta = date1 + date2"
   ]
  },
  {
   "cell_type": "code",
   "execution_count": 82,
   "id": "f1cadd18",
   "metadata": {},
   "outputs": [],
   "source": [
    "bday =datetime.date(2022, 6, 1)"
   ]
  },
  {
   "cell_type": "code",
   "execution_count": 83,
   "id": "e5c103cd",
   "metadata": {},
   "outputs": [
    {
     "name": "stdout",
     "output_type": "stream",
     "text": [
      "253 days, 0:00:00\n"
     ]
    }
   ],
   "source": [
    "till_bday = bday - tday\n",
    "print(till_bday)"
   ]
  },
  {
   "cell_type": "code",
   "execution_count": 84,
   "id": "abbd8852",
   "metadata": {},
   "outputs": [
    {
     "name": "stdout",
     "output_type": "stream",
     "text": [
      "21859200.0\n"
     ]
    }
   ],
   "source": [
    "print(till_bday.total_seconds())"
   ]
  },
  {
   "cell_type": "code",
   "execution_count": 85,
   "id": "a7110d65",
   "metadata": {},
   "outputs": [],
   "source": [
    "t = datetime.time"
   ]
  },
  {
   "cell_type": "code",
   "execution_count": 86,
   "id": "88602f8a",
   "metadata": {},
   "outputs": [
    {
     "name": "stdout",
     "output_type": "stream",
     "text": [
      "04:30:45.100000\n"
     ]
    }
   ],
   "source": [
    "t = datetime.time(4, 30, 45, 100000)\n",
    "print(t)"
   ]
  },
  {
   "cell_type": "code",
   "execution_count": 87,
   "id": "44f6d89d",
   "metadata": {},
   "outputs": [
    {
     "name": "stdout",
     "output_type": "stream",
     "text": [
      "4\n"
     ]
    }
   ],
   "source": [
    "t = datetime.time(4, 30, 45, 100000)\n",
    "print(t.hour)"
   ]
  },
  {
   "cell_type": "code",
   "execution_count": 88,
   "id": "7245127d",
   "metadata": {},
   "outputs": [],
   "source": [
    "tdelta = datetime.timedelta(days=7)"
   ]
  },
  {
   "cell_type": "code",
   "execution_count": 89,
   "id": "94323d06",
   "metadata": {},
   "outputs": [
    {
     "name": "stdout",
     "output_type": "stream",
     "text": [
      "2021-09-27 16:55:30+00:00\n"
     ]
    }
   ],
   "source": [
    "print(dt +tdelta)"
   ]
  },
  {
   "cell_type": "code",
   "execution_count": 90,
   "id": "26d1b813",
   "metadata": {},
   "outputs": [
    {
     "name": "stdout",
     "output_type": "stream",
     "text": [
      "2021-09-21 04:55:30+00:00\n"
     ]
    }
   ],
   "source": [
    "tdelta = datetime.timedelta(hours=12)\n",
    "print(dt +tdelta)"
   ]
  },
  {
   "cell_type": "code",
   "execution_count": 91,
   "id": "d047ecb6",
   "metadata": {},
   "outputs": [],
   "source": [
    "dt_today = datetime.datetime.today()\n",
    "dt_now = datetime.datetime.now()\n",
    "dt_utcnow = datetime.datetime.utcnow()"
   ]
  },
  {
   "cell_type": "code",
   "execution_count": 92,
   "id": "b051212c",
   "metadata": {},
   "outputs": [
    {
     "name": "stdout",
     "output_type": "stream",
     "text": [
      "2021-09-21 11:01:07.129141\n",
      "2021-09-21 11:01:07.129227\n",
      "2021-09-21 17:01:07.129265\n"
     ]
    }
   ],
   "source": [
    "print(dt_today)\n",
    "print(dt_now)\n",
    "print(dt_utcnow)"
   ]
  },
  {
   "cell_type": "code",
   "execution_count": 98,
   "id": "5a2914f4",
   "metadata": {},
   "outputs": [
    {
     "name": "stdout",
     "output_type": "stream",
     "text": [
      "Requirement already satisfied: pytz in /opt/anaconda3/lib/python3.8/site-packages (2021.1)\n",
      "Note: you may need to restart the kernel to use updated packages.\n"
     ]
    }
   ],
   "source": [
    "pip install pytz"
   ]
  },
  {
   "cell_type": "code",
   "execution_count": 99,
   "id": "42e6c5d9",
   "metadata": {},
   "outputs": [],
   "source": [
    "import pytz"
   ]
  },
  {
   "cell_type": "code",
   "execution_count": 100,
   "id": "f11f67ab",
   "metadata": {},
   "outputs": [
    {
     "name": "stdout",
     "output_type": "stream",
     "text": [
      "2021-09-20 16:55:30+00:00\n"
     ]
    }
   ],
   "source": [
    "dt = datetime.datetime(2021, 9, 20, 16, 55, 30, tzinofr=pytz.UTC)\n",
    "print(dt)"
   ]
  },
  {
   "cell_type": "code",
   "execution_count": 102,
   "id": "b4606024",
   "metadata": {},
   "outputs": [
    {
     "name": "stdout",
     "output_type": "stream",
     "text": [
      "2021-09-21 11:01:07.129227\n"
     ]
    }
   ],
   "source": [
    "dt = datetime.datetime.now(tz=pytz.UTC)\n",
    "print(dt_now)"
   ]
  },
  {
   "cell_type": "code",
   "execution_count": 104,
   "id": "cbe2999d",
   "metadata": {},
   "outputs": [
    {
     "name": "stdout",
     "output_type": "stream",
     "text": [
      "2021-09-21 20:15:59.403452+00:00\n"
     ]
    }
   ],
   "source": [
    "dt_utcnow = datetime.datetime.utcnow().replace(tzinfo=pytz.UTC)\n",
    "print(dt_utcnow)"
   ]
  },
  {
   "cell_type": "code",
   "execution_count": 105,
   "id": "6824e84c",
   "metadata": {},
   "outputs": [
    {
     "name": "stdout",
     "output_type": "stream",
     "text": [
      "2021-09-21 20:17:46.766333+00:00\n"
     ]
    }
   ],
   "source": [
    "dt_utcnow = datetime.datetime.now(tz=pytz.UTC)\n",
    "print(dt_utcnow)"
   ]
  },
  {
   "cell_type": "code",
   "execution_count": 107,
   "id": "20155ef4",
   "metadata": {},
   "outputs": [
    {
     "name": "stdout",
     "output_type": "stream",
     "text": [
      "2021-09-21 14:17:46.766333-06:00\n"
     ]
    }
   ],
   "source": [
    "dt_mtn = dt_utcnow.astimezone(pytz.timezone('US/Mountain'))\n",
    "print(dt_mtn)"
   ]
  },
  {
   "cell_type": "code",
   "execution_count": 108,
   "id": "228d286d",
   "metadata": {},
   "outputs": [
    {
     "name": "stdout",
     "output_type": "stream",
     "text": [
      "Africa/Abidjan\n",
      "Africa/Accra\n",
      "Africa/Addis_Ababa\n",
      "Africa/Algiers\n",
      "Africa/Asmara\n",
      "Africa/Asmera\n",
      "Africa/Bamako\n",
      "Africa/Bangui\n",
      "Africa/Banjul\n",
      "Africa/Bissau\n",
      "Africa/Blantyre\n",
      "Africa/Brazzaville\n",
      "Africa/Bujumbura\n",
      "Africa/Cairo\n",
      "Africa/Casablanca\n",
      "Africa/Ceuta\n",
      "Africa/Conakry\n",
      "Africa/Dakar\n",
      "Africa/Dar_es_Salaam\n",
      "Africa/Djibouti\n",
      "Africa/Douala\n",
      "Africa/El_Aaiun\n",
      "Africa/Freetown\n",
      "Africa/Gaborone\n",
      "Africa/Harare\n",
      "Africa/Johannesburg\n",
      "Africa/Juba\n",
      "Africa/Kampala\n",
      "Africa/Khartoum\n",
      "Africa/Kigali\n",
      "Africa/Kinshasa\n",
      "Africa/Lagos\n",
      "Africa/Libreville\n",
      "Africa/Lome\n",
      "Africa/Luanda\n",
      "Africa/Lubumbashi\n",
      "Africa/Lusaka\n",
      "Africa/Malabo\n",
      "Africa/Maputo\n",
      "Africa/Maseru\n",
      "Africa/Mbabane\n",
      "Africa/Mogadishu\n",
      "Africa/Monrovia\n",
      "Africa/Nairobi\n",
      "Africa/Ndjamena\n",
      "Africa/Niamey\n",
      "Africa/Nouakchott\n",
      "Africa/Ouagadougou\n",
      "Africa/Porto-Novo\n",
      "Africa/Sao_Tome\n",
      "Africa/Timbuktu\n",
      "Africa/Tripoli\n",
      "Africa/Tunis\n",
      "Africa/Windhoek\n",
      "America/Adak\n",
      "America/Anchorage\n",
      "America/Anguilla\n",
      "America/Antigua\n",
      "America/Araguaina\n",
      "America/Argentina/Buenos_Aires\n",
      "America/Argentina/Catamarca\n",
      "America/Argentina/ComodRivadavia\n",
      "America/Argentina/Cordoba\n",
      "America/Argentina/Jujuy\n",
      "America/Argentina/La_Rioja\n",
      "America/Argentina/Mendoza\n",
      "America/Argentina/Rio_Gallegos\n",
      "America/Argentina/Salta\n",
      "America/Argentina/San_Juan\n",
      "America/Argentina/San_Luis\n",
      "America/Argentina/Tucuman\n",
      "America/Argentina/Ushuaia\n",
      "America/Aruba\n",
      "America/Asuncion\n",
      "America/Atikokan\n",
      "America/Atka\n",
      "America/Bahia\n",
      "America/Bahia_Banderas\n",
      "America/Barbados\n",
      "America/Belem\n",
      "America/Belize\n",
      "America/Blanc-Sablon\n",
      "America/Boa_Vista\n",
      "America/Bogota\n",
      "America/Boise\n",
      "America/Buenos_Aires\n",
      "America/Cambridge_Bay\n",
      "America/Campo_Grande\n",
      "America/Cancun\n",
      "America/Caracas\n",
      "America/Catamarca\n",
      "America/Cayenne\n",
      "America/Cayman\n",
      "America/Chicago\n",
      "America/Chihuahua\n",
      "America/Coral_Harbour\n",
      "America/Cordoba\n",
      "America/Costa_Rica\n",
      "America/Creston\n",
      "America/Cuiaba\n",
      "America/Curacao\n",
      "America/Danmarkshavn\n",
      "America/Dawson\n",
      "America/Dawson_Creek\n",
      "America/Denver\n",
      "America/Detroit\n",
      "America/Dominica\n",
      "America/Edmonton\n",
      "America/Eirunepe\n",
      "America/El_Salvador\n",
      "America/Ensenada\n",
      "America/Fort_Nelson\n",
      "America/Fort_Wayne\n",
      "America/Fortaleza\n",
      "America/Glace_Bay\n",
      "America/Godthab\n",
      "America/Goose_Bay\n",
      "America/Grand_Turk\n",
      "America/Grenada\n",
      "America/Guadeloupe\n",
      "America/Guatemala\n",
      "America/Guayaquil\n",
      "America/Guyana\n",
      "America/Halifax\n",
      "America/Havana\n",
      "America/Hermosillo\n",
      "America/Indiana/Indianapolis\n",
      "America/Indiana/Knox\n",
      "America/Indiana/Marengo\n",
      "America/Indiana/Petersburg\n",
      "America/Indiana/Tell_City\n",
      "America/Indiana/Vevay\n",
      "America/Indiana/Vincennes\n",
      "America/Indiana/Winamac\n",
      "America/Indianapolis\n",
      "America/Inuvik\n",
      "America/Iqaluit\n",
      "America/Jamaica\n",
      "America/Jujuy\n",
      "America/Juneau\n",
      "America/Kentucky/Louisville\n",
      "America/Kentucky/Monticello\n",
      "America/Knox_IN\n",
      "America/Kralendijk\n",
      "America/La_Paz\n",
      "America/Lima\n",
      "America/Los_Angeles\n",
      "America/Louisville\n",
      "America/Lower_Princes\n",
      "America/Maceio\n",
      "America/Managua\n",
      "America/Manaus\n",
      "America/Marigot\n",
      "America/Martinique\n",
      "America/Matamoros\n",
      "America/Mazatlan\n",
      "America/Mendoza\n",
      "America/Menominee\n",
      "America/Merida\n",
      "America/Metlakatla\n",
      "America/Mexico_City\n",
      "America/Miquelon\n",
      "America/Moncton\n",
      "America/Monterrey\n",
      "America/Montevideo\n",
      "America/Montreal\n",
      "America/Montserrat\n",
      "America/Nassau\n",
      "America/New_York\n",
      "America/Nipigon\n",
      "America/Nome\n",
      "America/Noronha\n",
      "America/North_Dakota/Beulah\n",
      "America/North_Dakota/Center\n",
      "America/North_Dakota/New_Salem\n",
      "America/Nuuk\n",
      "America/Ojinaga\n",
      "America/Panama\n",
      "America/Pangnirtung\n",
      "America/Paramaribo\n",
      "America/Phoenix\n",
      "America/Port-au-Prince\n",
      "America/Port_of_Spain\n",
      "America/Porto_Acre\n",
      "America/Porto_Velho\n",
      "America/Puerto_Rico\n",
      "America/Punta_Arenas\n",
      "America/Rainy_River\n",
      "America/Rankin_Inlet\n",
      "America/Recife\n",
      "America/Regina\n",
      "America/Resolute\n",
      "America/Rio_Branco\n",
      "America/Rosario\n",
      "America/Santa_Isabel\n",
      "America/Santarem\n",
      "America/Santiago\n",
      "America/Santo_Domingo\n",
      "America/Sao_Paulo\n",
      "America/Scoresbysund\n",
      "America/Shiprock\n",
      "America/Sitka\n",
      "America/St_Barthelemy\n",
      "America/St_Johns\n",
      "America/St_Kitts\n",
      "America/St_Lucia\n",
      "America/St_Thomas\n",
      "America/St_Vincent\n",
      "America/Swift_Current\n",
      "America/Tegucigalpa\n",
      "America/Thule\n",
      "America/Thunder_Bay\n",
      "America/Tijuana\n",
      "America/Toronto\n",
      "America/Tortola\n",
      "America/Vancouver\n",
      "America/Virgin\n",
      "America/Whitehorse\n",
      "America/Winnipeg\n",
      "America/Yakutat\n",
      "America/Yellowknife\n",
      "Antarctica/Casey\n",
      "Antarctica/Davis\n",
      "Antarctica/DumontDUrville\n",
      "Antarctica/Macquarie\n",
      "Antarctica/Mawson\n",
      "Antarctica/McMurdo\n",
      "Antarctica/Palmer\n",
      "Antarctica/Rothera\n",
      "Antarctica/South_Pole\n",
      "Antarctica/Syowa\n",
      "Antarctica/Troll\n",
      "Antarctica/Vostok\n",
      "Arctic/Longyearbyen\n",
      "Asia/Aden\n",
      "Asia/Almaty\n",
      "Asia/Amman\n",
      "Asia/Anadyr\n",
      "Asia/Aqtau\n",
      "Asia/Aqtobe\n",
      "Asia/Ashgabat\n",
      "Asia/Ashkhabad\n",
      "Asia/Atyrau\n",
      "Asia/Baghdad\n",
      "Asia/Bahrain\n",
      "Asia/Baku\n",
      "Asia/Bangkok\n",
      "Asia/Barnaul\n",
      "Asia/Beirut\n",
      "Asia/Bishkek\n",
      "Asia/Brunei\n",
      "Asia/Calcutta\n",
      "Asia/Chita\n",
      "Asia/Choibalsan\n",
      "Asia/Chongqing\n",
      "Asia/Chungking\n",
      "Asia/Colombo\n",
      "Asia/Dacca\n",
      "Asia/Damascus\n",
      "Asia/Dhaka\n",
      "Asia/Dili\n",
      "Asia/Dubai\n",
      "Asia/Dushanbe\n",
      "Asia/Famagusta\n",
      "Asia/Gaza\n",
      "Asia/Harbin\n",
      "Asia/Hebron\n",
      "Asia/Ho_Chi_Minh\n",
      "Asia/Hong_Kong\n",
      "Asia/Hovd\n",
      "Asia/Irkutsk\n",
      "Asia/Istanbul\n",
      "Asia/Jakarta\n",
      "Asia/Jayapura\n",
      "Asia/Jerusalem\n",
      "Asia/Kabul\n",
      "Asia/Kamchatka\n",
      "Asia/Karachi\n",
      "Asia/Kashgar\n",
      "Asia/Kathmandu\n",
      "Asia/Katmandu\n",
      "Asia/Khandyga\n",
      "Asia/Kolkata\n",
      "Asia/Krasnoyarsk\n",
      "Asia/Kuala_Lumpur\n",
      "Asia/Kuching\n",
      "Asia/Kuwait\n",
      "Asia/Macao\n",
      "Asia/Macau\n",
      "Asia/Magadan\n",
      "Asia/Makassar\n",
      "Asia/Manila\n",
      "Asia/Muscat\n",
      "Asia/Nicosia\n",
      "Asia/Novokuznetsk\n",
      "Asia/Novosibirsk\n",
      "Asia/Omsk\n",
      "Asia/Oral\n",
      "Asia/Phnom_Penh\n",
      "Asia/Pontianak\n",
      "Asia/Pyongyang\n",
      "Asia/Qatar\n",
      "Asia/Qostanay\n",
      "Asia/Qyzylorda\n",
      "Asia/Rangoon\n",
      "Asia/Riyadh\n",
      "Asia/Saigon\n",
      "Asia/Sakhalin\n",
      "Asia/Samarkand\n",
      "Asia/Seoul\n",
      "Asia/Shanghai\n",
      "Asia/Singapore\n",
      "Asia/Srednekolymsk\n",
      "Asia/Taipei\n",
      "Asia/Tashkent\n",
      "Asia/Tbilisi\n",
      "Asia/Tehran\n",
      "Asia/Tel_Aviv\n",
      "Asia/Thimbu\n",
      "Asia/Thimphu\n",
      "Asia/Tokyo\n",
      "Asia/Tomsk\n",
      "Asia/Ujung_Pandang\n",
      "Asia/Ulaanbaatar\n",
      "Asia/Ulan_Bator\n",
      "Asia/Urumqi\n",
      "Asia/Ust-Nera\n",
      "Asia/Vientiane\n",
      "Asia/Vladivostok\n",
      "Asia/Yakutsk\n",
      "Asia/Yangon\n",
      "Asia/Yekaterinburg\n",
      "Asia/Yerevan\n",
      "Atlantic/Azores\n",
      "Atlantic/Bermuda\n",
      "Atlantic/Canary\n",
      "Atlantic/Cape_Verde\n",
      "Atlantic/Faeroe\n",
      "Atlantic/Faroe\n",
      "Atlantic/Jan_Mayen\n",
      "Atlantic/Madeira\n",
      "Atlantic/Reykjavik\n",
      "Atlantic/South_Georgia\n",
      "Atlantic/St_Helena\n",
      "Atlantic/Stanley\n",
      "Australia/ACT\n",
      "Australia/Adelaide\n",
      "Australia/Brisbane\n",
      "Australia/Broken_Hill\n",
      "Australia/Canberra\n",
      "Australia/Currie\n",
      "Australia/Darwin\n",
      "Australia/Eucla\n",
      "Australia/Hobart\n",
      "Australia/LHI\n",
      "Australia/Lindeman\n",
      "Australia/Lord_Howe\n",
      "Australia/Melbourne\n",
      "Australia/NSW\n",
      "Australia/North\n",
      "Australia/Perth\n",
      "Australia/Queensland\n",
      "Australia/South\n",
      "Australia/Sydney\n",
      "Australia/Tasmania\n",
      "Australia/Victoria\n",
      "Australia/West\n",
      "Australia/Yancowinna\n",
      "Brazil/Acre\n",
      "Brazil/DeNoronha\n",
      "Brazil/East\n",
      "Brazil/West\n",
      "CET\n",
      "CST6CDT\n",
      "Canada/Atlantic\n",
      "Canada/Central\n",
      "Canada/Eastern\n",
      "Canada/Mountain\n",
      "Canada/Newfoundland\n",
      "Canada/Pacific\n",
      "Canada/Saskatchewan\n",
      "Canada/Yukon\n",
      "Chile/Continental\n",
      "Chile/EasterIsland\n",
      "Cuba\n",
      "EET\n",
      "EST\n",
      "EST5EDT\n",
      "Egypt\n",
      "Eire\n",
      "Etc/GMT\n",
      "Etc/GMT+0\n",
      "Etc/GMT+1\n",
      "Etc/GMT+10\n",
      "Etc/GMT+11\n",
      "Etc/GMT+12\n",
      "Etc/GMT+2\n",
      "Etc/GMT+3\n",
      "Etc/GMT+4\n",
      "Etc/GMT+5\n",
      "Etc/GMT+6\n",
      "Etc/GMT+7\n",
      "Etc/GMT+8\n",
      "Etc/GMT+9\n",
      "Etc/GMT-0\n",
      "Etc/GMT-1\n",
      "Etc/GMT-10\n",
      "Etc/GMT-11\n",
      "Etc/GMT-12\n",
      "Etc/GMT-13\n",
      "Etc/GMT-14\n",
      "Etc/GMT-2\n",
      "Etc/GMT-3\n",
      "Etc/GMT-4\n",
      "Etc/GMT-5\n",
      "Etc/GMT-6\n",
      "Etc/GMT-7\n",
      "Etc/GMT-8\n",
      "Etc/GMT-9\n",
      "Etc/GMT0\n",
      "Etc/Greenwich\n",
      "Etc/UCT\n",
      "Etc/UTC\n",
      "Etc/Universal\n",
      "Etc/Zulu\n",
      "Europe/Amsterdam\n",
      "Europe/Andorra\n",
      "Europe/Astrakhan\n",
      "Europe/Athens\n",
      "Europe/Belfast\n",
      "Europe/Belgrade\n",
      "Europe/Berlin\n",
      "Europe/Bratislava\n",
      "Europe/Brussels\n",
      "Europe/Bucharest\n",
      "Europe/Budapest\n",
      "Europe/Busingen\n",
      "Europe/Chisinau\n",
      "Europe/Copenhagen\n",
      "Europe/Dublin\n",
      "Europe/Gibraltar\n",
      "Europe/Guernsey\n",
      "Europe/Helsinki\n",
      "Europe/Isle_of_Man\n",
      "Europe/Istanbul\n",
      "Europe/Jersey\n",
      "Europe/Kaliningrad\n",
      "Europe/Kiev\n",
      "Europe/Kirov\n",
      "Europe/Lisbon\n",
      "Europe/Ljubljana\n",
      "Europe/London\n",
      "Europe/Luxembourg\n",
      "Europe/Madrid\n",
      "Europe/Malta\n",
      "Europe/Mariehamn\n",
      "Europe/Minsk\n",
      "Europe/Monaco\n",
      "Europe/Moscow\n",
      "Europe/Nicosia\n",
      "Europe/Oslo\n",
      "Europe/Paris\n",
      "Europe/Podgorica\n",
      "Europe/Prague\n",
      "Europe/Riga\n",
      "Europe/Rome\n",
      "Europe/Samara\n",
      "Europe/San_Marino\n",
      "Europe/Sarajevo\n",
      "Europe/Saratov\n",
      "Europe/Simferopol\n",
      "Europe/Skopje\n",
      "Europe/Sofia\n",
      "Europe/Stockholm\n",
      "Europe/Tallinn\n",
      "Europe/Tirane\n",
      "Europe/Tiraspol\n",
      "Europe/Ulyanovsk\n",
      "Europe/Uzhgorod\n",
      "Europe/Vaduz\n",
      "Europe/Vatican\n",
      "Europe/Vienna\n",
      "Europe/Vilnius\n",
      "Europe/Volgograd\n",
      "Europe/Warsaw\n",
      "Europe/Zagreb\n",
      "Europe/Zaporozhye\n",
      "Europe/Zurich\n",
      "GB\n",
      "GB-Eire\n",
      "GMT\n",
      "GMT+0\n",
      "GMT-0\n",
      "GMT0\n",
      "Greenwich\n",
      "HST\n",
      "Hongkong\n",
      "Iceland\n",
      "Indian/Antananarivo\n",
      "Indian/Chagos\n",
      "Indian/Christmas\n",
      "Indian/Cocos\n",
      "Indian/Comoro\n",
      "Indian/Kerguelen\n",
      "Indian/Mahe\n",
      "Indian/Maldives\n",
      "Indian/Mauritius\n",
      "Indian/Mayotte\n",
      "Indian/Reunion\n",
      "Iran\n",
      "Israel\n",
      "Jamaica\n",
      "Japan\n",
      "Kwajalein\n",
      "Libya\n",
      "MET\n",
      "MST\n",
      "MST7MDT\n",
      "Mexico/BajaNorte\n",
      "Mexico/BajaSur\n",
      "Mexico/General\n",
      "NZ\n",
      "NZ-CHAT\n",
      "Navajo\n",
      "PRC\n",
      "PST8PDT\n",
      "Pacific/Apia\n",
      "Pacific/Auckland\n",
      "Pacific/Bougainville\n",
      "Pacific/Chatham\n",
      "Pacific/Chuuk\n",
      "Pacific/Easter\n",
      "Pacific/Efate\n",
      "Pacific/Enderbury\n",
      "Pacific/Fakaofo\n",
      "Pacific/Fiji\n",
      "Pacific/Funafuti\n",
      "Pacific/Galapagos\n",
      "Pacific/Gambier\n",
      "Pacific/Guadalcanal\n",
      "Pacific/Guam\n",
      "Pacific/Honolulu\n",
      "Pacific/Johnston\n",
      "Pacific/Kiritimati\n",
      "Pacific/Kosrae\n",
      "Pacific/Kwajalein\n",
      "Pacific/Majuro\n",
      "Pacific/Marquesas\n",
      "Pacific/Midway\n",
      "Pacific/Nauru\n",
      "Pacific/Niue\n",
      "Pacific/Norfolk\n",
      "Pacific/Noumea\n",
      "Pacific/Pago_Pago\n",
      "Pacific/Palau\n",
      "Pacific/Pitcairn\n",
      "Pacific/Pohnpei\n",
      "Pacific/Ponape\n",
      "Pacific/Port_Moresby\n",
      "Pacific/Rarotonga\n",
      "Pacific/Saipan\n",
      "Pacific/Samoa\n",
      "Pacific/Tahiti\n",
      "Pacific/Tarawa\n",
      "Pacific/Tongatapu\n",
      "Pacific/Truk\n",
      "Pacific/Wake\n",
      "Pacific/Wallis\n",
      "Pacific/Yap\n",
      "Poland\n",
      "Portugal\n",
      "ROC\n",
      "ROK\n",
      "Singapore\n",
      "Turkey\n",
      "UCT\n",
      "US/Alaska\n",
      "US/Aleutian\n",
      "US/Arizona\n",
      "US/Central\n",
      "US/East-Indiana\n",
      "US/Eastern\n",
      "US/Hawaii\n",
      "US/Indiana-Starke\n",
      "US/Michigan\n",
      "US/Mountain\n",
      "US/Pacific\n",
      "US/Samoa\n",
      "UTC\n",
      "Universal\n",
      "W-SU\n",
      "WET\n",
      "Zulu\n"
     ]
    }
   ],
   "source": [
    "for tz in pytz.all_timezones:\n",
    "    print(tz)"
   ]
  },
  {
   "cell_type": "code",
   "execution_count": 109,
   "id": "6e7c227a",
   "metadata": {},
   "outputs": [
    {
     "name": "stdout",
     "output_type": "stream",
     "text": [
      "2021-09-21 14:22:49.893910\n"
     ]
    }
   ],
   "source": [
    "dt_mtn = datetime.datetime.now()\n",
    "print(dt_mtn)"
   ]
  },
  {
   "cell_type": "code",
   "execution_count": 113,
   "id": "11b49e9e",
   "metadata": {},
   "outputs": [
    {
     "name": "stdout",
     "output_type": "stream",
     "text": [
      "2021-09-21 16:31:15.487208-04:00\n"
     ]
    }
   ],
   "source": [
    "dt_mtn = datetime.datetime.now()\n",
    "mtn_tz= pytz.timezone('US/Mountain')\n",
    "\n",
    "dt_mtn = mtn_tz.localize(dt_mtn)\n",
    "\n",
    "dt_east = dt_mtn.astimezone(pytz.timezone('US/Eastern'))\n",
    "print(dt_east)"
   ]
  },
  {
   "cell_type": "code",
   "execution_count": 114,
   "id": "a396f031",
   "metadata": {},
   "outputs": [
    {
     "name": "stdout",
     "output_type": "stream",
     "text": [
      "2021-09-21T14:31:15.487208-06:00\n"
     ]
    }
   ],
   "source": [
    "print(dt_mtn.isoformat())"
   ]
  },
  {
   "cell_type": "code",
   "execution_count": 115,
   "id": "0d653f4f",
   "metadata": {},
   "outputs": [
    {
     "name": "stdout",
     "output_type": "stream",
     "text": [
      "September 21, 2021\n"
     ]
    }
   ],
   "source": [
    "print(dt_mtn.strftime('%B %d, %Y'))"
   ]
  },
  {
   "cell_type": "code",
   "execution_count": 116,
   "id": "67e23784",
   "metadata": {},
   "outputs": [
    {
     "name": "stdout",
     "output_type": "stream",
     "text": [
      "2021-09-21 00:00:00\n"
     ]
    }
   ],
   "source": [
    "dt_str = 'September 21, 2021'\n",
    "dt = datetime.datetime.strptime(dt_str,'%B %d, %Y' )\n",
    "print(dt)"
   ]
  },
  {
   "cell_type": "code",
   "execution_count": null,
   "id": "adabe52b",
   "metadata": {},
   "outputs": [],
   "source": []
  }
 ],
 "metadata": {
  "kernelspec": {
   "display_name": "Python 3",
   "language": "python",
   "name": "python3"
  },
  "language_info": {
   "codemirror_mode": {
    "name": "ipython",
    "version": 3
   },
   "file_extension": ".py",
   "mimetype": "text/x-python",
   "name": "python",
   "nbconvert_exporter": "python",
   "pygments_lexer": "ipython3",
   "version": "3.8.8"
  }
 },
 "nbformat": 4,
 "nbformat_minor": 5
}
